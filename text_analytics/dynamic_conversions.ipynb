{
 "cells": [
  {
   "cell_type": "code",
   "execution_count": 1,
   "metadata": {
    "collapsed": true
   },
   "outputs": [],
   "source": [
    "def split_alpha_numeric(query):\n",
    "    queryx = \"\"; qlen=len(query.strip())\n",
    "    for x in range(qlen):\n",
    "        chr1 = query[x]\n",
    "        if x<qlen-1:\n",
    "            chr2=query[x+1]\n",
    "            if chr1.isalpha() and chr2.isdigit():\n",
    "                queryx = queryx+chr1+\" \"\n",
    "            elif chr1.isdigit() and chr2.isalpha():\n",
    "                queryx = queryx+chr1+\" \"\n",
    "            elif not chr1.isalpha() and not chr1.isdigit():\n",
    "                queryx = queryx+chr1\n",
    "            else:\n",
    "                queryx=queryx+chr1\n",
    "        else:\n",
    "            queryx = queryx + chr1\n",
    "    return queryx.strip()\n",
    "\n",
    "\n",
    "def split_spl_chr(q,split_digit=False):\n",
    "    num=['0','1','2','3','4','5','6','7','8','9']\n",
    "    exp=[' ',\"'\"]\n",
    "    temp=\"\"; qlen=len(q.strip())\n",
    "    for p in range(qlen):\n",
    "        if q[p].isdigit() or q[p].isalpha() or q[p] in num or q[p] in exp:\n",
    "            temp=temp+q[p]\n",
    "        else:\n",
    "            temp=temp+\" \"+q[p]+\" \"\n",
    "    queryx=temp.strip()\n",
    "    return queryx"
   ]
  },
  {
   "cell_type": "code",
   "execution_count": 25,
   "metadata": {},
   "outputs": [
    {
     "data": {
      "text/plain": [
       "(1.524, [1, -1])"
      ]
     },
     "execution_count": 25,
     "metadata": {},
     "output_type": "execute_result"
    }
   ],
   "source": [
    "def conv(query):\n",
    "    \n",
    "    metrics = {\n",
    "                \"m\" : [\"m\",\"meter\",\"meters\",\"mtr\"],\n",
    "                \"i\" : [\"in\",\"inch\",\"inches\"],\n",
    "                \"f\" : [\"ft\", \"feet\", \"foot\"],\n",
    "                \"c\" : [\"cm\",\"cms\", \"centimeter\",\"centimeters\"],\n",
    "                \"k\" : [\"kg\",\"kgs\",\"kilo\",\"kilogram\"],\n",
    "                \"l\" : [\"lb\",\"lbs\",\"pound\",\"pounds\"]\n",
    "                }\n",
    "\n",
    "    conversion = {\"m\":1, \"i\":0.0254, \"f\":0.3048, \"c\":0.001, \n",
    "                  \"k\":1, \"l\":0.453592}\n",
    "\n",
    "    query = split_alpha_numeric(query).lower()\n",
    "    qlist = query.split()\n",
    "    alt_query = 0; sts=[]\n",
    "\n",
    "    for t in range(len(qlist)):\n",
    "        token = qlist[t]; #print(token)\n",
    "        if token.isdigit():\n",
    "            if t+1 < len(qlist):\n",
    "                next_token = qlist[t+1]\n",
    "                flag=0\n",
    "                for u in metrics:\n",
    "                    if next_token[0]==u:\n",
    "                        if next_token in metrics[u]:\n",
    "                            token = float(token)*conversion[u]\n",
    "                            alt_query = alt_query + token; #print(alt_query)\n",
    "                            flag=1\n",
    "                            break\n",
    "                if flag == 0:\n",
    "                    sts.append(-1)\n",
    "                else:\n",
    "                    sts.append(1)\n",
    "                    \n",
    "    if alt_query == 0:\n",
    "        alt_query = query\n",
    "        \n",
    "    return alt_query, sts\n",
    "    \n",
    "conv(\"i am  5 ft 4inh\")"
   ]
  },
  {
   "cell_type": "code",
   "execution_count": null,
   "metadata": {},
   "outputs": [],
   "source": []
  }
 ],
 "metadata": {
  "kernelspec": {
   "display_name": "Python 3",
   "language": "python",
   "name": "python3"
  },
  "language_info": {
   "codemirror_mode": {
    "name": "ipython",
    "version": 3
   },
   "file_extension": ".py",
   "mimetype": "text/x-python",
   "name": "python",
   "nbconvert_exporter": "python",
   "pygments_lexer": "ipython3",
   "version": "3.6.2"
  }
 },
 "nbformat": 4,
 "nbformat_minor": 2
}
