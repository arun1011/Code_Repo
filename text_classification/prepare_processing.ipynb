{
 "cells": [
  {
   "cell_type": "code",
   "execution_count": 1,
   "metadata": {},
   "outputs": [],
   "source": [
    "import pandas as pd\n",
    "import numpy as np\n",
    "import os, sys\n",
    "import re, string\n",
    "from nltk.stem import WordNetLemmatizer\n",
    "from nltk.corpus import stopwords\n",
    "from sklearn.utils import resample\n",
    "\n",
    "\n",
    "dev_loc = r'/axp/buanalytics/csswcpfwt/dev/'"
   ]
  },
  {
   "cell_type": "code",
   "execution_count": 2,
   "metadata": {},
   "outputs": [
    {
     "data": {
      "text/html": [
       "<div>\n",
       "<style scoped>\n",
       "    .dataframe tbody tr th:only-of-type {\n",
       "        vertical-align: middle;\n",
       "    }\n",
       "\n",
       "    .dataframe tbody tr th {\n",
       "        vertical-align: top;\n",
       "    }\n",
       "\n",
       "    .dataframe thead th {\n",
       "        text-align: right;\n",
       "    }\n",
       "</style>\n",
       "<table border=\"1\" class=\"dataframe\">\n",
       "  <thead>\n",
       "    <tr style=\"text-align: right;\">\n",
       "      <th></th>\n",
       "      <th>featr_frmt_id</th>\n",
       "      <th>featr_nm</th>\n",
       "      <th>featr_desc</th>\n",
       "      <th>featr_note</th>\n",
       "      <th>PFWT</th>\n",
       "      <th>drct_child_ct</th>\n",
       "      <th>story_frmt_id</th>\n",
       "      <th>story_nm</th>\n",
       "      <th>story_ds</th>\n",
       "      <th>acpt_crit</th>\n",
       "      <th>story_note</th>\n",
       "    </tr>\n",
       "  </thead>\n",
       "  <tbody>\n",
       "    <tr>\n",
       "      <th>0</th>\n",
       "      <td>F20</td>\n",
       "      <td>UCID - SD</td>\n",
       "      <td>ADW IVR</td>\n",
       "      <td>NaN</td>\n",
       "      <td>NaN</td>\n",
       "      <td>18</td>\n",
       "      <td>US123881</td>\n",
       "      <td>Tech Task  - Merge R2E Defect -  Score card fu...</td>\n",
       "      <td>Should able to authenticate with scorecard whe...</td>\n",
       "      <td>NaN</td>\n",
       "      <td>NaN</td>\n",
       "    </tr>\n",
       "  </tbody>\n",
       "</table>\n",
       "</div>"
      ],
      "text/plain": [
       "  featr_frmt_id   featr_nm featr_desc featr_note PFWT  drct_child_ct  \\\n",
       "0           F20  UCID - SD    ADW IVR        NaN  NaN             18   \n",
       "\n",
       "  story_frmt_id                                           story_nm  \\\n",
       "0      US123881  Tech Task  - Merge R2E Defect -  Score card fu...   \n",
       "\n",
       "                                            story_ds acpt_crit story_note  \n",
       "0  Should able to authenticate with scorecard whe...       NaN        NaN  "
      ]
     },
     "execution_count": 2,
     "metadata": {},
     "output_type": "execute_result"
    }
   ],
   "source": [
    "df = pd.read_csv(r'/axp/buanalytics/csswcpfwt/dev/rally_extract.txt', header=None, index_col=None, delimiter=r'\\x01', engine='python')\n",
    "df.columns = ['featr_frmt_id','featr_nm','featr_desc','featr_note','PFWT','drct_child_ct','story_frmt_id','story_nm','story_ds','acpt_crit','story_note']\n",
    "df.head(1)"
   ]
  },
  {
   "cell_type": "code",
   "execution_count": 3,
   "metadata": {},
   "outputs": [
    {
     "name": "stdout",
     "output_type": "stream",
     "text": [
      "716471 292834\n"
     ]
    },
    {
     "data": {
      "text/plain": [
       "New Application Development / New App Dev Testing    205253\n",
       "Other Non-Application Development activities          75344\n",
       "Research & Development (R&D)                          10179\n",
       "Name: PFWT, dtype: int64"
      ]
     },
     "execution_count": 3,
     "metadata": {},
     "output_type": "execute_result"
    }
   ],
   "source": [
    "df_filtered = df[['featr_nm','featr_desc','story_nm','story_ds','PFWT']]\n",
    "df_filtered = df_filtered.dropna(how='any')\n",
    "df_filtered = df_filtered.drop_duplicates()\n",
    "print(len(df), len(df_filtered)); #print(df_filtered.head())\n",
    "\n",
    "indexNames = df_filtered[df_filtered['PFWT'] ==\"Select for Theme, Epic or Capability\" ].index\n",
    "df_filtered.drop(indexNames , inplace=True)\n",
    "\n",
    "df_filtered['PFWT'].value_counts()"
   ]
  },
  {
   "cell_type": "code",
   "execution_count": 4,
   "metadata": {},
   "outputs": [
    {
     "data": {
      "text/plain": [
       "New Application Development / New App Dev Testing    25000\n",
       "Other Non-Application Development activities         15000\n",
       "Research & Development (R&D)                         10000\n",
       "Name: PFWT, dtype: int64"
      ]
     },
     "execution_count": 4,
     "metadata": {},
     "output_type": "execute_result"
    }
   ],
   "source": [
    "# #handling imbalanced data\n",
    "df1 = df_filtered[df_filtered['PFWT']=='New Application Development / New App Dev Testing']\n",
    "df2 = df_filtered[df_filtered['PFWT']=='Other Non-Application Development activities']\n",
    "df3 = df_filtered[df_filtered['PFWT']=='Research & Development (R&D)']\n",
    "\n",
    "df1 = resample(df1, replace=False, n_samples=25000, random_state=123)\n",
    "df2 = resample(df2, replace=False, n_samples=15000, random_state=123)\n",
    "df3 = resample(df3, replace=False, n_samples=10000, random_state=123)\n",
    "\n",
    "df_data = pd.concat([df1, df2, df3])\n",
    "df_data['PFWT'].value_counts()"
   ]
  },
  {
   "cell_type": "code",
   "execution_count": 5,
   "metadata": {},
   "outputs": [
    {
     "name": "stdout",
     "output_type": "stream",
     "text": [
      "completed---> featr_nm\n",
      "completed---> featr_desc\n",
      "completed---> story_nm\n",
      "completed---> story_ds\n"
     ]
    }
   ],
   "source": [
    "def clean_tags(txt):\n",
    "    txt=str(txt)\n",
    "    txt=txt.strip();txt=txt.lower()\n",
    "    txt=txt.replace('>','> ')\n",
    "    txt=txt.replace('<',' <')\n",
    "    txt=re.sub(\"[\\<\\[].*?[\\>\\]]\", \"\", txt)\n",
    "    return txt\n",
    "#pre_process(\"<div>EWT</div><div>EDIS</div><div>Merchant Rec...\")\n",
    "\n",
    "#define all stopwords\n",
    "def stopwords_list():\n",
    "    stop_words_list = set(stopwords.words('english'))\n",
    "    stop_words_list.update(('and','a','so','arnt','this','when','It','many','so','cant','yes'))\n",
    "    stop_words_list.update(('no','these','these','please', 'let', 'know', 'cant', 'can', 'pls', 'u', 'abt', 'wht'))\n",
    "    return stop_words_list\n",
    "\n",
    "stop_words_list = stopwords_list()\n",
    "\n",
    "#function to clean the input - unwanted data/text can be removed\n",
    "def clean_text(text):  \n",
    "    norm_text = text.lower()\n",
    "    #remove use case specific keywords\n",
    "    #norm_text = norm_text.replace('end report', ' ')         \n",
    "    for char in ['\\\"', ',', '(', ')', '!', '?', ';', ':', '#', '*', '>','$']:\n",
    "        norm_text = norm_text.replace(char, ' ' + char + ' ')\n",
    "            \n",
    "    norm_text = norm_text.replace('<U1177324', ' ')\n",
    "    norm_text = norm_text.replace(' &nbsp',' ')\n",
    "    norm_text = norm_text.replace('&nbsp',' ')\n",
    "    norm_text = re.sub(r\"\\\\\", \"\", norm_text)    \n",
    "    norm_text = re.sub(r\"\\'\", \"\", norm_text)    \n",
    "    norm_text = re.sub(r\"\\\"\", \"\", norm_text)  \n",
    "    \n",
    "    #clear number labels\n",
    "    norm_text = re.sub('[0-9]{1,2}[.]', ' ', norm_text).strip() \n",
    "    #remove 1/20:\n",
    "    norm_text = re.sub('[0-9]{1,2}[/][0-9]{1,2}[:]', ' ', norm_text).strip()\n",
    "    #remove numbers\n",
    "    norm_text = re.sub('[0-9]{1,2}[ ]', '', norm_text).strip()\n",
    "    norm_text = re.sub('(\\d{1,3}(?:\\s*\\d{3})*(?:,\\d+)?)', ' ', norm_text).strip()\n",
    "\n",
    "    #clear date\n",
    "    norm_text = re.sub('[0-9]{1,2}[\\/,:][0-9]{1,2}[\\/,:][0-9]{2,4}', ' ', norm_text).strip() \n",
    "    return norm_text\n",
    "\n",
    "#lemmatize and remove stop words\n",
    "def lemmatize_text(text, stopwords_remove= True):\n",
    "    lemmatizer = WordNetLemmatizer()\n",
    "    if(stopwords_remove):\n",
    "        resp = [lemmatizer.lemmatize(word) for word in text.split() if word not in stop_words_list if word not in string.punctuation if word.isalpha()]\n",
    "    else:#without stopword removal\n",
    "        resp = [lemmatizer.lemmatize(word) for word in text.split() if word not in string.punctuation if word.isalpha()]\n",
    "    return \" \".join(resp)\n",
    "\n",
    "# Master function to convert text to lower-case and strip punctuation/symbols from words\n",
    "def normalize_text(text, stopwords_remove = True):\n",
    "    out1 = clean_tags(text); #print(1, out1)\n",
    "    out2 = clean_text(out1); #print(2, out2)\n",
    "    out3 = lemmatize_text(out2, stopwords_remove); #print(3, out3)\n",
    "    return out3\n",
    "\n",
    "# #test input\n",
    "# normalize_text(\"<ff> dshfksj<> kajsflksuoiew sd325325\")\n",
    "\n",
    "for series in df_data.columns:\n",
    "    if series == 'PFWT': continue\n",
    "    df_data[series] = df_data[series].apply(normalize_text); print(\"completed--->\", series)\n",
    "    \n",
    "#save processed data\n",
    "df_data.to_csv(dev_loc+\"/processed_data.csv\", index=False)\n"
   ]
  }
 ],
 "metadata": {
  "kernelspec": {
   "display_name": "Python 3",
   "language": "python",
   "name": "python3"
  },
  "language_info": {
   "codemirror_mode": {
    "name": "ipython",
    "version": 3
   },
   "file_extension": ".py",
   "mimetype": "text/x-python",
   "name": "python",
   "nbconvert_exporter": "python",
   "pygments_lexer": "ipython3",
   "version": "3.5.3"
  },
  "projectdetails": {
   "creator_id": "aselv7",
   "notebook_id": "f9462265-ee21-4c6e-a261-12a30bdb54f0",
   "notebook_name": "prepare_processing.ipynb",
   "prod_sys": null,
   "project_desc": "pfwt feature prediction using rally data in cornerstone db",
   "project_id": "7f2a13ec-1fb9-49d2-bdbc-186e420f0063",
   "project_name": "pfwt_test",
   "project_status": null,
   "status": "new"
  }
 },
 "nbformat": 4,
 "nbformat_minor": 2
}
