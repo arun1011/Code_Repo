{
 "cells": [
  {
   "cell_type": "code",
   "execution_count": 1,
   "metadata": {},
   "outputs": [],
   "source": [
    "import pandas as pd\n",
    "import numpy as np\n",
    "\n",
    "from sklearn.externals import joblib\n",
    "import _pickle as pickle\n",
    "from sklearn.model_selection import train_test_split\n",
    "from sklearn.feature_extraction.text import TfidfVectorizer, CountVectorizer, TfidfTransformer\n",
    "from sklearn.metrics import classification_report, accuracy_score\n",
    "from sklearn.ensemble import RandomForestClassifier as RFC\n",
    "\n",
    "from sklearn.utils import resample\n",
    "\n",
    "dev_loc = r'/axp/buanalytics/csswcpfwt/dev/'"
   ]
  },
  {
   "cell_type": "code",
   "execution_count": 2,
   "metadata": {},
   "outputs": [
    {
     "data": {
      "text/html": [
       "<div>\n",
       "<style scoped>\n",
       "    .dataframe tbody tr th:only-of-type {\n",
       "        vertical-align: middle;\n",
       "    }\n",
       "\n",
       "    .dataframe tbody tr th {\n",
       "        vertical-align: top;\n",
       "    }\n",
       "\n",
       "    .dataframe thead th {\n",
       "        text-align: right;\n",
       "    }\n",
       "</style>\n",
       "<table border=\"1\" class=\"dataframe\">\n",
       "  <thead>\n",
       "    <tr style=\"text-align: right;\">\n",
       "      <th></th>\n",
       "      <th>featr_nm</th>\n",
       "      <th>featr_desc</th>\n",
       "      <th>story_nm</th>\n",
       "      <th>story_ds</th>\n",
       "      <th>PFWT</th>\n",
       "    </tr>\n",
       "  </thead>\n",
       "  <tbody>\n",
       "    <tr>\n",
       "      <th>9325</th>\n",
       "      <td>ability book loan fraud wfis</td>\n",
       "      <td>ability book fraudulent merchant finance pre a...</td>\n",
       "      <td>uat test support wfis feed mf wct</td>\n",
       "      <td>mf wct fraud officer want detail fraudulent ac...</td>\n",
       "      <td>New Application Development / New App Dev Testing</td>\n",
       "    </tr>\n",
       "  </tbody>\n",
       "</table>\n",
       "</div>"
      ],
      "text/plain": [
       "                          featr_nm  \\\n",
       "9325  ability book loan fraud wfis   \n",
       "\n",
       "                                             featr_desc  \\\n",
       "9325  ability book fraudulent merchant finance pre a...   \n",
       "\n",
       "                               story_nm  \\\n",
       "9325  uat test support wfis feed mf wct   \n",
       "\n",
       "                                               story_ds  \\\n",
       "9325  mf wct fraud officer want detail fraudulent ac...   \n",
       "\n",
       "                                                   PFWT  \n",
       "9325  New Application Development / New App Dev Testing  "
      ]
     },
     "execution_count": 2,
     "metadata": {},
     "output_type": "execute_result"
    }
   ],
   "source": [
    "#pull the processed data\n",
    "df_data = pd.read_csv(dev_loc+\"/processed_data.csv\")\n",
    "\n",
    "#dropna, if missed in preprocess\n",
    "df_data = df_data.dropna(how='any')\n",
    "\n",
    "# for testing I have sampled, but in real-time it's not needed.\n",
    "df_data = resample(df_data, replace=False, n_samples=1000, random_state=123)\n",
    "\n",
    "df_data.head(1)"
   ]
  },
  {
   "cell_type": "code",
   "execution_count": 3,
   "metadata": {},
   "outputs": [
    {
     "name": "stdout",
     "output_type": "stream",
     "text": [
      "9325    ability book loan fraud wfisability book fraud...\n",
      "Name: combined, dtype: object\n"
     ]
    }
   ],
   "source": [
    "# get x, y\n",
    "\n",
    "i=0\n",
    "for s in df_data.columns:\n",
    "    if s == 'PFWT': continue\n",
    "    if i==0:\n",
    "        df_data[\"combined\"] = df_data[s]\n",
    "    else:\n",
    "        df_data[\"combined\"] = df_data[\"combined\"] + df_data[s]\n",
    "    i=i+1\n",
    "    \n",
    "#print(df_data.head(1))\n",
    "\n",
    "x = df_data[\"combined\"]\n",
    "y = df_data['PFWT']\n",
    "print(x.head(1))"
   ]
  },
  {
   "cell_type": "code",
   "execution_count": 4,
   "metadata": {},
   "outputs": [
    {
     "name": "stdout",
     "output_type": "stream",
     "text": [
      "testing accuracy:  0.909\n",
      "\n",
      "                                                   precision    recall  f1-score   support\n",
      "\n",
      "New Application Development / New App Dev Testing       0.90      0.95      0.93       515\n",
      "     Other Non-Application Development activities       0.88      0.87      0.88       303\n",
      "                     Research & Development (R&D)       0.99      0.85      0.91       182\n",
      "\n",
      "                                        micro avg       0.91      0.91      0.91      1000\n",
      "                                        macro avg       0.92      0.89      0.91      1000\n",
      "                                     weighted avg       0.91      0.91      0.91      1000\n",
      "\n",
      "\n"
     ]
    }
   ],
   "source": [
    "\n",
    "filename = dev_loc+'/pfwt_model.sav'\n",
    "feature_file = dev_loc+\"/pfwt_vectors.pkl\"\n",
    "\n",
    "loaded_vec = TfidfVectorizer(decode_error=\"replace\", vocabulary=pickle.load(open(feature_file, \"rb\")))\n",
    "transformer = TfidfTransformer()\n",
    "x_vec = transformer.fit_transform(loaded_vec.fit_transform(x))\n",
    "\n",
    "loaded_model = joblib.load(filename)\n",
    "test_predictions = loaded_model.predict(x_vec)\n",
    "test_accuracy = accuracy_score(test_predictions, y); print(\"testing accuracy: \", test_accuracy); print(\"\")\n",
    "print(classification_report(y, test_predictions)); print(\"\")"
   ]
  }
 ],
 "metadata": {
  "kernelspec": {
   "display_name": "Python 3",
   "language": "python",
   "name": "python3"
  },
  "language_info": {
   "codemirror_mode": {
    "name": "ipython",
    "version": 3
   },
   "file_extension": ".py",
   "mimetype": "text/x-python",
   "name": "python",
   "nbconvert_exporter": "python",
   "pygments_lexer": "ipython3",
   "version": "3.5.3"
  },
  "projectdetails": {
   "creator_id": "aselv7",
   "notebook_id": "c208798c-7930-4b57-a693-b986fbbc4cbc",
   "notebook_name": "prediction.ipynb",
   "prod_sys": null,
   "project_desc": "pfwt feature prediction using rally data in cornerstone db",
   "project_id": "7f2a13ec-1fb9-49d2-bdbc-186e420f0063",
   "project_name": "pfwt_test",
   "project_status": null,
   "status": "new"
  }
 },
 "nbformat": 4,
 "nbformat_minor": 2
}
