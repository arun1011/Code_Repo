{
 "cells": [
  {
   "cell_type": "code",
   "execution_count": 1,
   "metadata": {
    "collapsed": true
   },
   "outputs": [],
   "source": [
    "import pandas as pd\n",
    "import numpy as np\n",
    "\n",
    "from sklearn.externals import joblib\n",
    "import _pickle as pickle\n",
    "from sklearn.model_selection import train_test_split\n",
    "from sklearn.feature_extraction.text import TfidfVectorizer, CountVectorizer, TfidfTransformer\n",
    "from sklearn.metrics import classification_report, accuracy_score\n",
    "from sklearn.ensemble import RandomForestClassifier as RFC\n",
    "\n",
    "dev_loc = r'/axp/buanalytics/csswcpfwt/dev/'"
   ]
  },
  {
   "cell_type": "code",
   "execution_count": 2,
   "metadata": {},
   "outputs": [
    {
     "data": {
      "text/html": [
       "<div>\n",
       "<style scoped>\n",
       "    .dataframe tbody tr th:only-of-type {\n",
       "        vertical-align: middle;\n",
       "    }\n",
       "\n",
       "    .dataframe tbody tr th {\n",
       "        vertical-align: top;\n",
       "    }\n",
       "\n",
       "    .dataframe thead th {\n",
       "        text-align: right;\n",
       "    }\n",
       "</style>\n",
       "<table border=\"1\" class=\"dataframe\">\n",
       "  <thead>\n",
       "    <tr style=\"text-align: right;\">\n",
       "      <th></th>\n",
       "      <th>featr_nm</th>\n",
       "      <th>featr_desc</th>\n",
       "      <th>story_nm</th>\n",
       "      <th>story_ds</th>\n",
       "      <th>PFWT</th>\n",
       "    </tr>\n",
       "  </thead>\n",
       "  <tbody>\n",
       "    <tr>\n",
       "      <th>1</th>\n",
       "      <td>france go balancing</td>\n",
       "      <td>ability balancing mechanism goand q inform q f...</td>\n",
       "      <td>go file creation carry</td>\n",
       "      <td>product manager want ensure status update file...</td>\n",
       "      <td>New Application Development / New App Dev Testing</td>\n",
       "    </tr>\n",
       "  </tbody>\n",
       "</table>\n",
       "</div>"
      ],
      "text/plain": [
       "              featr_nm                                         featr_desc  \\\n",
       "1  france go balancing  ability balancing mechanism goand q inform q f...   \n",
       "\n",
       "                 story_nm                                           story_ds  \\\n",
       "1  go file creation carry  product manager want ensure status update file...   \n",
       "\n",
       "                                                PFWT  \n",
       "1  New Application Development / New App Dev Testing  "
      ]
     },
     "execution_count": 2,
     "metadata": {},
     "output_type": "execute_result"
    }
   ],
   "source": [
    "#pull the processed data\n",
    "df_data = pd.read_csv(dev_loc+\"/processed_data.csv\")\n",
    "\n",
    "#dropna, if missed in preprocess\n",
    "df_data = df_data.dropna(how='any')\n",
    "\n",
    "df_data.head(1)"
   ]
  },
  {
   "cell_type": "code",
   "execution_count": 3,
   "metadata": {
    "collapsed": true
   },
   "outputs": [],
   "source": [
    "# get x, y\n",
    "\n",
    "i=0\n",
    "for s in df_data.columns:\n",
    "    if s == 'PFWT': continue\n",
    "    if i==0:\n",
    "        df_data[\"combined\"] = df_data[s]\n",
    "    else:\n",
    "        df_data[\"combined\"] = df_data[\"combined\"] + df_data[s]\n",
    "    i=i+1\n",
    "    \n",
    "#print(df_data.head(1))\n",
    "\n",
    "x = df_data[\"combined\"]\n",
    "y = df_data['PFWT']\n",
    "# print(x.head(1))\n"
   ]
  },
  {
   "cell_type": "code",
   "execution_count": 4,
   "metadata": {},
   "outputs": [
    {
     "name": "stdout",
     "output_type": "stream",
     "text": [
      "(48822, 110707)\n"
     ]
    }
   ],
   "source": [
    "#vectorize\n",
    "vectorizer = CountVectorizer()\n",
    "vec_train = vectorizer.fit_transform(x)\n",
    "feature_file = dev_loc+\"/pfwt_vectors.pkl\"\n",
    "pickle.dump(vectorizer.vocabulary_, open(feature_file,\"wb\"))\n",
    "\n",
    "loaded_vec = TfidfVectorizer(decode_error=\"replace\", vocabulary=pickle.load(open(feature_file, \"rb\")))\n",
    "transformer = TfidfTransformer()\n",
    "x_vec = transformer.fit_transform(loaded_vec.fit_transform(x))\n",
    "print(x_vec.shape)\n"
   ]
  },
  {
   "cell_type": "code",
   "execution_count": 5,
   "metadata": {},
   "outputs": [
    {
     "name": "stdout",
     "output_type": "stream",
     "text": [
      "36616 12206\n",
      "36616 12206\n",
      "Results for estimator size : 8\n",
      "\n",
      "training accuracy:  0.9869729080183526\n",
      "\n",
      "                                                   precision    recall  f1-score   support\n",
      "\n",
      "New Application Development / New App Dev Testing       0.98      1.00      0.99     18277\n",
      "     Other Non-Application Development activities       1.00      0.97      0.98     11039\n",
      "                     Research & Development (R&D)       1.00      0.98      0.99      7300\n",
      "\n",
      "                                        micro avg       0.99      0.99      0.99     36616\n",
      "                                        macro avg       0.99      0.98      0.99     36616\n",
      "                                     weighted avg       0.99      0.99      0.99     36616\n",
      "\n",
      "\n",
      "testing accuracy:  0.8149270850401442\n",
      "\n",
      "                                                   precision    recall  f1-score   support\n",
      "\n",
      "New Application Development / New App Dev Testing       0.77      0.95      0.85      6130\n",
      "     Other Non-Application Development activities       0.85      0.66      0.74      3601\n",
      "                     Research & Development (R&D)       0.97      0.70      0.82      2475\n",
      "\n",
      "                                        micro avg       0.81      0.81      0.81     12206\n",
      "                                        macro avg       0.86      0.77      0.80     12206\n",
      "                                     weighted avg       0.83      0.81      0.81     12206\n",
      "\n",
      "\n"
     ]
    }
   ],
   "source": [
    "import warnings\n",
    "warnings.filterwarnings('ignore')\n",
    "\n",
    "x_vec = x_vec.toarray()\n",
    "# #split train and test\n",
    "xtrain, xtest, ytrain, ytest = train_test_split(x_vec, y)\n",
    "print(len(xtrain), len(ytrain)); print(len(xtest), len(ytest))\n",
    "\n",
    "for n in [8]:\n",
    "    \n",
    "    print(\"Results for estimator size : \"+str(n)); print(\"\")\n",
    "    \n",
    "    classifier = RFC(bootstrap=True, class_weight=None, criterion='gini',\n",
    "     max_depth=None, max_features='auto', max_leaf_nodes=None,\n",
    "     min_impurity_split=1e-07, min_samples_leaf=1,\n",
    "     min_samples_split=2, min_weight_fraction_leaf=0.0,\n",
    "     n_estimators=n, n_jobs=1, oob_score=False, random_state=None,\n",
    "     verbose=0, warm_start=False)\n",
    "\n",
    "    classifier.fit(xtrain, ytrain)\n",
    "    \n",
    "    train_predictions = classifier.predict(xtrain)\n",
    "    train_accuracy = accuracy_score(train_predictions, ytrain); print(\"training accuracy: \", train_accuracy); print(\"\")\n",
    "    print(classification_report(ytrain, train_predictions)); print(\"\")\n",
    "\n",
    "    test_predictions = classifier.predict(xtest)\n",
    "    test_accuracy = accuracy_score(test_predictions, ytest); print(\"testing accuracy: \", test_accuracy); print(\"\")\n",
    "    print(classification_report(ytest, test_predictions)); print(\"\")\n",
    "    "
   ]
  },
  {
   "cell_type": "code",
   "execution_count": 6,
   "metadata": {},
   "outputs": [
    {
     "data": {
      "text/plain": [
       "['/axp/buanalytics/csswcpfwt/dev//pfwt_model.sav']"
      ]
     },
     "execution_count": 6,
     "metadata": {},
     "output_type": "execute_result"
    }
   ],
   "source": [
    "#save model\n",
    "model_file = dev_loc+'/pfwt_model.sav'\n",
    "joblib.dump(classifier, model_file)"
   ]
  }
 ],
 "metadata": {
  "kernelspec": {
   "display_name": "Python 3",
   "language": "python",
   "name": "python3"
  },
  "language_info": {
   "codemirror_mode": {
    "name": "ipython",
    "version": 3
   },
   "file_extension": ".py",
   "mimetype": "text/x-python",
   "name": "python",
   "nbconvert_exporter": "python",
   "pygments_lexer": "ipython3",
   "version": "3.6.2"
  },
  "projectdetails": {
   "creator_id": "aselv7",
   "notebook_id": "78092d4a-c08e-411f-af6c-db0f2733ec69",
   "notebook_name": "training.ipynb",
   "prod_sys": null,
   "project_desc": "pfwt feature prediction using rally data in cornerstone db",
   "project_id": "7f2a13ec-1fb9-49d2-bdbc-186e420f0063",
   "project_name": "pfwt_test",
   "project_status": null,
   "status": "new"
  }
 },
 "nbformat": 4,
 "nbformat_minor": 2
}
