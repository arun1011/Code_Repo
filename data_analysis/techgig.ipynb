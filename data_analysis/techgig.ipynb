{
 "cells": [
  {
   "cell_type": "code",
   "execution_count": 1,
   "metadata": {
    "collapsed": true
   },
   "outputs": [],
   "source": [
    "import multiprocessing\n",
    "import time"
   ]
  },
  {
   "cell_type": "code",
   "execution_count": 2,
   "metadata": {
    "collapsed": true
   },
   "outputs": [],
   "source": [
    "def check(x):\n",
    "    TM = x[0]\n",
    "    GR = sorted([int(i) for i in x[1]])\n",
    "    OP = sorted([int(i) for i in x[2]])\n",
    "    f=0; pos = []; last_k=0\n",
    "\n",
    "    for j in range(TM):\n",
    "        for k in range(last_k, TM):\n",
    "            if k in pos: continue\n",
    "            if GR[j] > OP[k]:\n",
    "                f=f+1\n",
    "                pos.append(k)\n",
    "                last_k = k\n",
    "                break\n",
    "    return f"
   ]
  },
  {
   "cell_type": "code",
   "execution_count": null,
   "metadata": {
    "collapsed": true
   },
   "outputs": [],
   "source": [
    "def main():\n",
    "    N = int(input()); #print(N)\n",
    "    for i in range(N):\n",
    "        TM = int(input()); #print(TM)\n",
    "        GR = input().strip().split()\n",
    "        OP = input().strip().split()\n",
    "        GR = sorted([int(i) for i in GR])\n",
    "        OP = sorted([int(i) for i in OP])\n",
    "        f = check([TM,GR,OP])\n",
    "        print(f)\n",
    "\n",
    "main()"
   ]
  },
  {
   "cell_type": "code",
   "execution_count": null,
   "metadata": {},
   "outputs": [
    {
     "name": "stdout",
     "output_type": "stream",
     "text": [
      "2\n"
     ]
    }
   ],
   "source": [
    "\n",
    "def main():\n",
    "    N = 2\n",
    "    TM = 108\n",
    "    GR = \"21477 10656 25721 24897 32415 22610 12037 21500 11412 17475 28926 18152 19083 8817 22912 643 15768 18412 7269 4619 12179 5248 16991 9026 32712 28820 16196 4975 11248 25170 17064 19877 17761 32264 30385 24135 18049 13774 8487 24524 23680 19562 23243 9408 31047 28528 20714 17163 16811 15534 17713 25718 11239 14022 16323 107 25161 27933 10121 25340 15915 23284 13513 9512 28453 16853 29179 31321 8833 817 16088 30512 16111 15687 2483 13701 2170 12103 13068 31146 16571 10424 20323 15600 5965 2071 15178 16749 32385 3265 13758 4860 14418 19 29879 6532 12187 31183 26622 8318 29063 17345 7743 30641 23369 8355 95 4416\".split() \n",
    "    OP= \"20494 31295 22287 16615 2864 15059 20130 130 25261 21945 27931 24015 3543 17223 11915 30068 17485 29685 15258 8004 18729 32445 28259 12222 13947 3784 6533 29398 7415 21574 17782 17401 19434 31902 22555 26443 21875 30151 23190 2099 8943 245 20832 281 11701 22649 23191 20590 12292 27874 1689 24301 25145 32105 7889 31521 6213 3980 20177 11816 21343 2552 25505 19894 7158 30380 5463 28509 14314 12380 3816 8459 4347 32531 10302 2772 24450 26653 1675 24049 27999 13604 5852 13577 1330 30361 5873 18864 25038 1366 8268 9006 12778 18305 27016 8833 1050 15539 12780 4005 12030 5465 2880 3090 2489 22875 30175 3719\".split()\n",
    "\n",
    "    inputs=[]\n",
    "    for i in range(N):\n",
    "        inputs.append([TM,GR,OP])\n",
    "    \n",
    "    print(len(inputs))\n",
    "    \n",
    "    pool = multiprocessing.Pool() \n",
    "    pool = multiprocessing.Pool(processes=4) \n",
    "    \n",
    "#     outputs = pool.map(check, inputs)\n",
    "    \n",
    "    outputs_async = pool.map_async(check, inputs) \n",
    "    outputs = outputs_async.get() \n",
    "\n",
    "    print(outputs)\n",
    "        \n",
    "start_time = time.time()\n",
    "main()\n",
    "print(\"--- %s seconds ---\" % (time.time() - start_time))"
   ]
  },
  {
   "cell_type": "code",
   "execution_count": 5,
   "metadata": {
    "collapsed": true
   },
   "outputs": [],
   "source": [
    "import numpy as np\n",
    "from matplotlib import pyplot as plt"
   ]
  },
  {
   "cell_type": "code",
   "execution_count": 16,
   "metadata": {},
   "outputs": [
    {
     "data": {
      "image/png": "[encoded data removed]",
      "text/plain": [
       "<Figure size 432x288 with 1 Axes>"
      ]
     },
     "metadata": {},
     "output_type": "display_data"
    }
   ],
   "source": [
    "data = np.linspace(1,100, 250)\n",
    "plt.plot(data); plt.show()"
   ]
  },
  {
   "cell_type": "code",
   "execution_count": 17,
   "metadata": {},
   "outputs": [
    {
     "data": {
      "image/png": "[encoded data removed]",
      "text/plain": [
       "<Figure size 432x288 with 1 Axes>"
      ]
     },
     "metadata": {},
     "output_type": "display_data"
    }
   ],
   "source": [
    "def sigmoid(x):\n",
    "    s = 1 / (1 + np.exp(-x))\n",
    "    return s\n",
    "\n",
    "datax = sigmoid(data); \n",
    "plt.plot(datax); plt.show()"
   ]
  }
 ],
 "metadata": {
  "kernelspec": {
   "display_name": "Python 3",
   "language": "python",
   "name": "python3"
  },
  "language_info": {
   "codemirror_mode": {
    "name": "ipython",
    "version": 3
   },
   "file_extension": ".py",
   "mimetype": "text/x-python",
   "name": "python",
   "nbconvert_exporter": "python",
   "pygments_lexer": "ipython3",
   "version": "3.6.2"
  }
 },
 "nbformat": 4,
 "nbformat_minor": 2
}
